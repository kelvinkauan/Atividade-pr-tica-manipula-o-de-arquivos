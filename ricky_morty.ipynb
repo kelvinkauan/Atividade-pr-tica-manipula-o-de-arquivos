{
  "nbformat": 4,
  "nbformat_minor": 0,
  "metadata": {
    "colab": {
      "name": "ricky_morty.ipynb",
      "provenance": [],
      "collapsed_sections": [],
      "include_colab_link": true
    },
    "kernelspec": {
      "name": "python3",
      "display_name": "Python 3"
    },
    "language_info": {
      "name": "python"
    }
  },
  "cells": [
    {
      "cell_type": "markdown",
      "metadata": {
        "id": "view-in-github",
        "colab_type": "text"
      },
      "source": [
        "<a href=\"https://colab.research.google.com/github/kelvinkauan/Atividade-pr-tica-manipula-o-de-arquivos/blob/master/ricky_morty.ipynb\" target=\"_parent\"><img src=\"https://colab.research.google.com/assets/colab-badge.svg\" alt=\"Open In Colab\"/></a>"
      ]
    },
    {
      "cell_type": "markdown",
      "metadata": {
        "id": "T8a1Fp_4mYwK"
      },
      "source": [
        "##Importa o pandas\n",
        "\n",
        "---\n",
        "\n",
        "\n"
      ]
    },
    {
      "cell_type": "code",
      "metadata": {
        "id": "FGUJJ-R5vfI3"
      },
      "source": [
        "import pandas as pd"
      ],
      "execution_count": null,
      "outputs": []
    },
    {
      "cell_type": "markdown",
      "metadata": {
        "id": "O0-OkmUFm38D"
      },
      "source": [
        "\n",
        "##Conecta com o drive\n",
        "\n",
        "\n",
        "\n",
        "---\n",
        "\n"
      ]
    },
    {
      "cell_type": "code",
      "metadata": {
        "colab": {
          "base_uri": "https://localhost:8080/"
        },
        "id": "e2pacYstzHf6",
        "outputId": "62b91169-b380-40c2-e2bc-ea1ab9bf9a67"
      },
      "source": [
        "from google.colab import drive\n",
        "drive.mount('/content/drive')"
      ],
      "execution_count": null,
      "outputs": [
        {
          "output_type": "stream",
          "name": "stdout",
          "text": [
            "Drive already mounted at /content/drive; to attempt to forcibly remount, call drive.mount(\"/content/drive\", force_remount=True).\n"
          ]
        }
      ]
    },
    {
      "cell_type": "markdown",
      "metadata": {
        "id": "BBE7-7aWt0zT"
      },
      "source": [
        "##1. Quantos personagens existe nessa lista?\n",
        "\n",
        "---\n",
        "\n"
      ]
    },
    {
      "cell_type": "code",
      "metadata": {
        "colab": {
          "base_uri": "https://localhost:8080/",
          "height": 691
        },
        "id": "7T5QG5Sotmu_",
        "outputId": "9128ba60-5c69-4d2c-cc8a-71aa00a1791c"
      },
      "source": [
        "rick_morty_df = pd.read_json(\"https://raw.githubusercontent.com/jeffersonchaves/rick-and-morty-dados/main/character.json\")\n",
        "\n",
        "display(rick_morty_df)\n",
        "\n",
        "linha = rick_morty_df.shape\n",
        "\n",
        "print(f'Existem {linha[0]} personagens nesse arquivo.')"
      ],
      "execution_count": null,
      "outputs": [
        {
          "output_type": "display_data",
          "data": {
            "text/html": [
              "<div>\n",
              "<style scoped>\n",
              "    .dataframe tbody tr th:only-of-type {\n",
              "        vertical-align: middle;\n",
              "    }\n",
              "\n",
              "    .dataframe tbody tr th {\n",
              "        vertical-align: top;\n",
              "    }\n",
              "\n",
              "    .dataframe thead th {\n",
              "        text-align: right;\n",
              "    }\n",
              "</style>\n",
              "<table border=\"1\" class=\"dataframe\">\n",
              "  <thead>\n",
              "    <tr style=\"text-align: right;\">\n",
              "      <th></th>\n",
              "      <th>id</th>\n",
              "      <th>name</th>\n",
              "      <th>status</th>\n",
              "      <th>species</th>\n",
              "      <th>type</th>\n",
              "      <th>gender</th>\n",
              "      <th>origin</th>\n",
              "      <th>location</th>\n",
              "      <th>image</th>\n",
              "      <th>episode</th>\n",
              "      <th>url</th>\n",
              "      <th>created</th>\n",
              "    </tr>\n",
              "  </thead>\n",
              "  <tbody>\n",
              "    <tr>\n",
              "      <th>0</th>\n",
              "      <td>1</td>\n",
              "      <td>Rick Sanchez</td>\n",
              "      <td>Alive</td>\n",
              "      <td>Human</td>\n",
              "      <td></td>\n",
              "      <td>Male</td>\n",
              "      <td>{'name': 'Earth (C-137)', 'url': 'https://rick...</td>\n",
              "      <td>{'name': 'Earth (Replacement Dimension)', 'url...</td>\n",
              "      <td>https://rickandmortyapi.com/api/character/avat...</td>\n",
              "      <td>[https://rickandmortyapi.com/api/episode/1, ht...</td>\n",
              "      <td>https://rickandmortyapi.com/api/character/1</td>\n",
              "      <td>2017-11-04T18:48:46.250Z</td>\n",
              "    </tr>\n",
              "    <tr>\n",
              "      <th>1</th>\n",
              "      <td>2</td>\n",
              "      <td>Morty Smith</td>\n",
              "      <td>Alive</td>\n",
              "      <td>Human</td>\n",
              "      <td></td>\n",
              "      <td>Male</td>\n",
              "      <td>{'name': 'Earth (C-137)', 'url': 'https://rick...</td>\n",
              "      <td>{'name': 'Earth (Replacement Dimension)', 'url...</td>\n",
              "      <td>https://rickandmortyapi.com/api/character/avat...</td>\n",
              "      <td>[https://rickandmortyapi.com/api/episode/1, ht...</td>\n",
              "      <td>https://rickandmortyapi.com/api/character/2</td>\n",
              "      <td>2017-11-04T18:50:21.651Z</td>\n",
              "    </tr>\n",
              "    <tr>\n",
              "      <th>2</th>\n",
              "      <td>3</td>\n",
              "      <td>Summer Smith</td>\n",
              "      <td>Alive</td>\n",
              "      <td>Human</td>\n",
              "      <td></td>\n",
              "      <td>Female</td>\n",
              "      <td>{'name': 'Earth (Replacement Dimension)', 'url...</td>\n",
              "      <td>{'name': 'Earth (Replacement Dimension)', 'url...</td>\n",
              "      <td>https://rickandmortyapi.com/api/character/avat...</td>\n",
              "      <td>[https://rickandmortyapi.com/api/episode/6, ht...</td>\n",
              "      <td>https://rickandmortyapi.com/api/character/3</td>\n",
              "      <td>2017-11-04T19:09:56.428Z</td>\n",
              "    </tr>\n",
              "    <tr>\n",
              "      <th>3</th>\n",
              "      <td>4</td>\n",
              "      <td>Beth Smith</td>\n",
              "      <td>Alive</td>\n",
              "      <td>Human</td>\n",
              "      <td></td>\n",
              "      <td>Female</td>\n",
              "      <td>{'name': 'Earth (Replacement Dimension)', 'url...</td>\n",
              "      <td>{'name': 'Earth (Replacement Dimension)', 'url...</td>\n",
              "      <td>https://rickandmortyapi.com/api/character/avat...</td>\n",
              "      <td>[https://rickandmortyapi.com/api/episode/6, ht...</td>\n",
              "      <td>https://rickandmortyapi.com/api/character/4</td>\n",
              "      <td>2017-11-04T19:22:43.665Z</td>\n",
              "    </tr>\n",
              "    <tr>\n",
              "      <th>4</th>\n",
              "      <td>5</td>\n",
              "      <td>Jerry Smith</td>\n",
              "      <td>Alive</td>\n",
              "      <td>Human</td>\n",
              "      <td></td>\n",
              "      <td>Male</td>\n",
              "      <td>{'name': 'Earth (Replacement Dimension)', 'url...</td>\n",
              "      <td>{'name': 'Earth (Replacement Dimension)', 'url...</td>\n",
              "      <td>https://rickandmortyapi.com/api/character/avat...</td>\n",
              "      <td>[https://rickandmortyapi.com/api/episode/6, ht...</td>\n",
              "      <td>https://rickandmortyapi.com/api/character/5</td>\n",
              "      <td>2017-11-04T19:26:56.301Z</td>\n",
              "    </tr>\n",
              "    <tr>\n",
              "      <th>...</th>\n",
              "      <td>...</td>\n",
              "      <td>...</td>\n",
              "      <td>...</td>\n",
              "      <td>...</td>\n",
              "      <td>...</td>\n",
              "      <td>...</td>\n",
              "      <td>...</td>\n",
              "      <td>...</td>\n",
              "      <td>...</td>\n",
              "      <td>...</td>\n",
              "      <td>...</td>\n",
              "      <td>...</td>\n",
              "    </tr>\n",
              "    <tr>\n",
              "      <th>95</th>\n",
              "      <td>96</td>\n",
              "      <td>Tuberculosis</td>\n",
              "      <td>Dead</td>\n",
              "      <td>Disease</td>\n",
              "      <td></td>\n",
              "      <td>unknown</td>\n",
              "      <td>{'name': 'Anatomy Park', 'url': 'https://ricka...</td>\n",
              "      <td>{'name': 'Anatomy Park', 'url': 'https://ricka...</td>\n",
              "      <td>https://rickandmortyapi.com/api/character/avat...</td>\n",
              "      <td>[https://rickandmortyapi.com/api/episode/3]</td>\n",
              "      <td>https://rickandmortyapi.com/api/character/96</td>\n",
              "      <td>2017-12-01T11:59:04.796Z</td>\n",
              "    </tr>\n",
              "    <tr>\n",
              "      <th>96</th>\n",
              "      <td>97</td>\n",
              "      <td>Gonorrhea</td>\n",
              "      <td>Dead</td>\n",
              "      <td>Disease</td>\n",
              "      <td></td>\n",
              "      <td>unknown</td>\n",
              "      <td>{'name': 'Anatomy Park', 'url': 'https://ricka...</td>\n",
              "      <td>{'name': 'Anatomy Park', 'url': 'https://ricka...</td>\n",
              "      <td>https://rickandmortyapi.com/api/character/avat...</td>\n",
              "      <td>[https://rickandmortyapi.com/api/episode/3]</td>\n",
              "      <td>https://rickandmortyapi.com/api/character/97</td>\n",
              "      <td>2017-12-01T12:00:27.028Z</td>\n",
              "    </tr>\n",
              "    <tr>\n",
              "      <th>97</th>\n",
              "      <td>98</td>\n",
              "      <td>Hepatitis A</td>\n",
              "      <td>Dead</td>\n",
              "      <td>Disease</td>\n",
              "      <td></td>\n",
              "      <td>unknown</td>\n",
              "      <td>{'name': 'Anatomy Park', 'url': 'https://ricka...</td>\n",
              "      <td>{'name': 'Anatomy Park', 'url': 'https://ricka...</td>\n",
              "      <td>https://rickandmortyapi.com/api/character/avat...</td>\n",
              "      <td>[https://rickandmortyapi.com/api/episode/3]</td>\n",
              "      <td>https://rickandmortyapi.com/api/character/98</td>\n",
              "      <td>2017-12-01T12:01:43.742Z</td>\n",
              "    </tr>\n",
              "    <tr>\n",
              "      <th>98</th>\n",
              "      <td>99</td>\n",
              "      <td>Hepatitis C</td>\n",
              "      <td>Dead</td>\n",
              "      <td>Disease</td>\n",
              "      <td></td>\n",
              "      <td>unknown</td>\n",
              "      <td>{'name': 'Anatomy Park', 'url': 'https://ricka...</td>\n",
              "      <td>{'name': 'Anatomy Park', 'url': 'https://ricka...</td>\n",
              "      <td>https://rickandmortyapi.com/api/character/avat...</td>\n",
              "      <td>[https://rickandmortyapi.com/api/episode/3]</td>\n",
              "      <td>https://rickandmortyapi.com/api/character/99</td>\n",
              "      <td>2017-12-01T12:02:00.935Z</td>\n",
              "    </tr>\n",
              "    <tr>\n",
              "      <th>99</th>\n",
              "      <td>100</td>\n",
              "      <td>Bubonic Plague</td>\n",
              "      <td>Dead</td>\n",
              "      <td>Disease</td>\n",
              "      <td></td>\n",
              "      <td>unknown</td>\n",
              "      <td>{'name': 'Anatomy Park', 'url': 'https://ricka...</td>\n",
              "      <td>{'name': 'Anatomy Park', 'url': 'https://ricka...</td>\n",
              "      <td>https://rickandmortyapi.com/api/character/avat...</td>\n",
              "      <td>[https://rickandmortyapi.com/api/episode/3]</td>\n",
              "      <td>https://rickandmortyapi.com/api/character/100</td>\n",
              "      <td>2017-12-01T12:02:21.611Z</td>\n",
              "    </tr>\n",
              "  </tbody>\n",
              "</table>\n",
              "<p>100 rows × 12 columns</p>\n",
              "</div>"
            ],
            "text/plain": [
              "     id  ...                   created\n",
              "0     1  ...  2017-11-04T18:48:46.250Z\n",
              "1     2  ...  2017-11-04T18:50:21.651Z\n",
              "2     3  ...  2017-11-04T19:09:56.428Z\n",
              "3     4  ...  2017-11-04T19:22:43.665Z\n",
              "4     5  ...  2017-11-04T19:26:56.301Z\n",
              "..  ...  ...                       ...\n",
              "95   96  ...  2017-12-01T11:59:04.796Z\n",
              "96   97  ...  2017-12-01T12:00:27.028Z\n",
              "97   98  ...  2017-12-01T12:01:43.742Z\n",
              "98   99  ...  2017-12-01T12:02:00.935Z\n",
              "99  100  ...  2017-12-01T12:02:21.611Z\n",
              "\n",
              "[100 rows x 12 columns]"
            ]
          },
          "metadata": {}
        },
        {
          "output_type": "stream",
          "name": "stdout",
          "text": [
            "Existem 100 personagens nesse arquivo.\n"
          ]
        }
      ]
    },
    {
      "cell_type": "markdown",
      "metadata": {
        "id": "vJBZi3VVudv-"
      },
      "source": [
        "##2. Quantos personagens são humanos?\n",
        "\n",
        "---\n",
        "\n"
      ]
    },
    {
      "cell_type": "code",
      "metadata": {
        "colab": {
          "base_uri": "https://localhost:8080/"
        },
        "id": "J0q9GeIhuger",
        "outputId": "2cd21fe2-1547-44c6-aaa8-b1a48dd84e41"
      },
      "source": [
        "rick_morty_df = pd.read_json(\"https://raw.githubusercontent.com/jeffersonchaves/rick-and-morty-dados/main/character.json\")\n",
        "\n",
        "human_condicao = rick_morty_df['species'] == 'Human'\n",
        "\n",
        "human_df = rick_morty_df.loc[human_condicao]\n",
        "\n",
        "numero_human, coluna = human_df.shape\n",
        "\n",
        "print(f'Existem {numero_human} Humanos nesse arquivo.')\n"
      ],
      "execution_count": null,
      "outputs": [
        {
          "output_type": "stream",
          "name": "stdout",
          "text": [
            "Existem 48 Humanos nesse arquivo.\n"
          ]
        }
      ]
    },
    {
      "cell_type": "markdown",
      "metadata": {
        "id": "RvcZAVYOvkE7"
      },
      "source": [
        "##3. Quantos personagens são alienígenas?\n",
        "\n",
        "---\n",
        "\n"
      ]
    },
    {
      "cell_type": "code",
      "metadata": {
        "colab": {
          "base_uri": "https://localhost:8080/"
        },
        "id": "T70owmm-vo9Y",
        "outputId": "b83a3d5e-3eb7-48b9-8b6f-b505dd537172"
      },
      "source": [
        "rick_morty_df = pd.read_json(\"https://raw.githubusercontent.com/jeffersonchaves/rick-and-morty-dados/main/character.json\")\n",
        "\n",
        "alien_condicao = rick_morty_df['species'] == 'Alien'\n",
        "\n",
        "alien_df = rick_morty_df.loc[alien_condicao]\n",
        "\n",
        "numero_aliens, coluna = alien_df.shape\n",
        "\n",
        "print(f'Existem {numero_aliens} Aliens nesse arquivo.')"
      ],
      "execution_count": null,
      "outputs": [
        {
          "output_type": "stream",
          "name": "stdout",
          "text": [
            "Existem 27 Aliens nesse arquivo.\n"
          ]
        }
      ]
    },
    {
      "cell_type": "markdown",
      "metadata": {
        "id": "D9TPca-hv4Yl"
      },
      "source": [
        "##4. Há quantos tipos de alienígenas diferentes?\n",
        "\n",
        "---\n",
        "\n"
      ]
    },
    {
      "cell_type": "code",
      "metadata": {
        "colab": {
          "base_uri": "https://localhost:8080/"
        },
        "id": "cV3EY-gNv_Bd",
        "outputId": "d0274d18-f459-42e7-8ce5-c7aea6138fbe"
      },
      "source": [
        "x = alien_df['type'].value_counts()\n",
        "numero_tipos_alienigena = x.shape\n",
        "\n",
        "print(f'Há {numero_tipos_alienigena[0]} tipos de alienígenas diferentes!')"
      ],
      "execution_count": null,
      "outputs": [
        {
          "output_type": "stream",
          "name": "stdout",
          "text": [
            "Há 16 tipos de alienígenas diferentes!\n"
          ]
        }
      ]
    },
    {
      "cell_type": "markdown",
      "metadata": {
        "id": "urZK9NqqwahQ"
      },
      "source": [
        "##5. Quantos alienígenas são homens e quantos são mulheres?\n",
        "\n",
        "---\n",
        "\n"
      ]
    },
    {
      "cell_type": "code",
      "metadata": {
        "colab": {
          "base_uri": "https://localhost:8080/"
        },
        "id": "ihw-Wq5OwysM",
        "outputId": "5fa0485e-e664-48fa-f13f-9e7fab55710c"
      },
      "source": [
        "rick_morty_df = pd.read_json('https://raw.githubusercontent.com/jeffersonchaves/rick-and-morty-dados/main/character.json')\n",
        "\n",
        "homens_condicao = rick_morty_df['gender'] == 'Male'\n",
        "\n",
        "homens_df = rick_morty_df.loc[homens_condicao]\n",
        "\n",
        "numero_homens, coluna = homens_df.shape \n",
        "\n",
        "print(f'Existem {numero_homens} homens!') \n"
      ],
      "execution_count": null,
      "outputs": [
        {
          "output_type": "stream",
          "name": "stdout",
          "text": [
            "Existem 69 homens!\n"
          ]
        }
      ]
    },
    {
      "cell_type": "code",
      "metadata": {
        "colab": {
          "base_uri": "https://localhost:8080/"
        },
        "id": "Wy8fPVGWA4Ql",
        "outputId": "56974a10-7998-47e6-d26b-aca7e2558f7d"
      },
      "source": [
        "rick_morty_df = pd.read_json('https://raw.githubusercontent.com/jeffersonchaves/rick-and-morty-dados/main/character.json')\n",
        "\n",
        "mulher_condicao = rick_morty_df['gender'] == 'Female'\n",
        "\n",
        "mulher_df = rick_morty_df.loc[mulher_condicao]\n",
        "\n",
        "numero_mulher, coluna = mulher_df.shape \n",
        "\n",
        "print(f'Existem {numero_mulher} mulheres!')"
      ],
      "execution_count": null,
      "outputs": [
        {
          "output_type": "stream",
          "name": "stdout",
          "text": [
            "Existem 16 mulheres!\n"
          ]
        }
      ]
    },
    {
      "cell_type": "markdown",
      "metadata": {
        "id": "rnnbk1MAwFdL"
      },
      "source": [
        "##6. Qual o nome do episódio em que o personagem Crocubot aparece?\n",
        "\n",
        "---\n",
        "\n"
      ]
    },
    {
      "cell_type": "code",
      "metadata": {
        "colab": {
          "base_uri": "https://localhost:8080/"
        },
        "id": "5WouvKHnwHpy",
        "outputId": "31673dbe-3331-47da-865e-ec766f7891d0"
      },
      "source": [
        "rick_morty_df = pd.read_json(\"https://raw.githubusercontent.com/jeffersonchaves/rick-and-morty-dados/main/character.json\")\n",
        "\n",
        "episodies_df = pd.read_json(\"https://raw.githubusercontent.com/jeffersonchaves/rick-and-morty-dados/main/episode.json\")\n",
        "\n",
        "crocubot_condicao = rick_morty_df['name'] == 'Crocubot'\n",
        "\n",
        "crocubot = rick_morty_df.loc[crocubot_condicao]\n",
        "\n",
        "episodio = crocubot['episode']\n",
        "\n",
        "episodio = episodio[80][0]\n",
        "\n",
        "episodio = episodio.split('/')\n",
        "\n",
        "episodio = int(episodio[-1])\n",
        "\n",
        "episodio"
      ],
      "execution_count": null,
      "outputs": [
        {
          "output_type": "execute_result",
          "data": {
            "text/plain": [
              "25"
            ]
          },
          "metadata": {},
          "execution_count": 84
        }
      ]
    },
    {
      "cell_type": "markdown",
      "metadata": {
        "id": "cEepfBovxgu-"
      },
      "source": [
        "##7. Quantos personagens estão em planetas chamados Earth, independente do universo.\n",
        "\n",
        "\n",
        "---\n",
        "\n"
      ]
    },
    {
      "cell_type": "code",
      "metadata": {
        "id": "OERa4Vcgx680",
        "colab": {
          "base_uri": "https://localhost:8080/"
        },
        "outputId": "0bcdc5e8-eb9a-4082-be94-535905d6d547"
      },
      "source": [
        "rick_morty_df = pd.read_json(\"https://raw.githubusercontent.com/jeffersonchaves/rick-and-morty-dados/main/character.json\")\n",
        "\n",
        "location_condicao = rick_morty_df['location'] == (\"Earth\")\n",
        "\n",
        "location_df = rick_morty_df.loc[location_condicao]\n",
        "\n",
        "coluna, numero_location = location_df.shape\n",
        "\n",
        "print(f'Existem {numero_location} personagens no planeta chamado Earth.')"
      ],
      "execution_count": null,
      "outputs": [
        {
          "output_type": "stream",
          "name": "stdout",
          "text": [
            "Existem 12 personagens no planeta chamado Earth.\n"
          ]
        }
      ]
    },
    {
      "cell_type": "markdown",
      "metadata": {
        "id": "2A7HW-HCx8O0"
      },
      "source": [
        "## 8. Em quantos episódios diferentes aparecem personagens da espécie alienígena?\n",
        "---\n",
        "\n"
      ]
    },
    {
      "cell_type": "code",
      "metadata": {
        "id": "XsTzuNua4SwF",
        "colab": {
          "base_uri": "https://localhost:8080/"
        },
        "outputId": "d4ceb4d4-821a-4152-b59c-6f765d4222af"
      },
      "source": [
        "rick_morty_df = pd.read_json(\"https://raw.githubusercontent.com/jeffersonchaves/rick-and-morty-dados/main/character.json\")\n",
        "\n",
        "episodies_df = pd.read_json(\"https://raw.githubusercontent.com/jeffersonchaves/rick-and-morty-dados/main/episode.json\")\n",
        "\n",
        "aliens_condicao = rick_morty_df['species'] == 'Alien'\n",
        "\n",
        "alien = rick_morty_df.loc[aliens_condicao]\n",
        "\n",
        "episodio, coluna = alien.shape\n",
        "\n",
        "print(f'Os personagens da espécie alienígena aparecem em {episodio} espisódios diferentes')                               \n"
      ],
      "execution_count": null,
      "outputs": [
        {
          "output_type": "stream",
          "name": "stdout",
          "text": [
            "Os personagens da espécie alienígena aparecem em 27 espisódios diferentes\n"
          ]
        }
      ]
    }
  ]
}